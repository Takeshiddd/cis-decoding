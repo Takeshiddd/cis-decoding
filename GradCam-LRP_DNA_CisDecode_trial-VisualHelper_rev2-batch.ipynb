{
 "cells": [
  {
   "cell_type": "markdown",
   "metadata": {},
   "source": [
    "## GBP for CisDecoding batch\n",
    "### outputing heatmap, weight raw data, weight integrated among genes/channels\n",
    "\n",
    "このファイルは保存用です。\n",
    "ファイルをコピーし、ファイル名を変更した後、使用する。\n",
    "\n",
    "使用にはutilフォルダが必要です。同一フォルダ内にutilフォルダをコピーして使用する。"
   ]
  },
  {
   "cell_type": "code",
   "execution_count": 1,
   "metadata": {
    "collapsed": false
   },
   "outputs": [
    {
     "name": "stderr",
     "output_type": "stream",
     "text": [
      "Using TensorFlow backend.\n",
      "/home/deepstation/.pyenv/versions/anaconda3-4.2.0/lib/python3.5/site-packages/tensorflow/python/framework/dtypes.py:493: FutureWarning: Passing (type, 1) or '1type' as a synonym of type is deprecated; in a future version of numpy, it will be understood as (type, (1,)) / '(1,)type'.\n",
      "  _np_qint8 = np.dtype([(\"qint8\", np.int8, 1)])\n",
      "/home/deepstation/.pyenv/versions/anaconda3-4.2.0/lib/python3.5/site-packages/tensorflow/python/framework/dtypes.py:494: FutureWarning: Passing (type, 1) or '1type' as a synonym of type is deprecated; in a future version of numpy, it will be understood as (type, (1,)) / '(1,)type'.\n",
      "  _np_quint8 = np.dtype([(\"quint8\", np.uint8, 1)])\n",
      "/home/deepstation/.pyenv/versions/anaconda3-4.2.0/lib/python3.5/site-packages/tensorflow/python/framework/dtypes.py:495: FutureWarning: Passing (type, 1) or '1type' as a synonym of type is deprecated; in a future version of numpy, it will be understood as (type, (1,)) / '(1,)type'.\n",
      "  _np_qint16 = np.dtype([(\"qint16\", np.int16, 1)])\n",
      "/home/deepstation/.pyenv/versions/anaconda3-4.2.0/lib/python3.5/site-packages/tensorflow/python/framework/dtypes.py:496: FutureWarning: Passing (type, 1) or '1type' as a synonym of type is deprecated; in a future version of numpy, it will be understood as (type, (1,)) / '(1,)type'.\n",
      "  _np_quint16 = np.dtype([(\"quint16\", np.uint16, 1)])\n",
      "/home/deepstation/.pyenv/versions/anaconda3-4.2.0/lib/python3.5/site-packages/tensorflow/python/framework/dtypes.py:497: FutureWarning: Passing (type, 1) or '1type' as a synonym of type is deprecated; in a future version of numpy, it will be understood as (type, (1,)) / '(1,)type'.\n",
      "  _np_qint32 = np.dtype([(\"qint32\", np.int32, 1)])\n",
      "/home/deepstation/.pyenv/versions/anaconda3-4.2.0/lib/python3.5/site-packages/tensorflow/python/framework/dtypes.py:502: FutureWarning: Passing (type, 1) or '1type' as a synonym of type is deprecated; in a future version of numpy, it will be understood as (type, (1,)) / '(1,)type'.\n",
      "  np_resource = np.dtype([(\"resource\", np.ubyte, 1)])\n"
     ]
    }
   ],
   "source": [
    "import matplotlib.pyplot as plt\n",
    "import numpy as np\n",
    "from visualizations_forCisDecode import GradCAM, GuidedGradCAM, GBP, LRP, CLRP, SGLRP, LRPA, LRPB, LRPE\n",
    "from keras.layers import (Activation, Add, GlobalAveragePooling2D,\n",
    "                          BatchNormalization, Conv1D, Conv2D, Dense, Flatten, Reshape, Input, Dropout,\n",
    "                          MaxPooling1D,MaxPooling2D)\n",
    "\n",
    "from keras.models import load_model, Model, Sequential\n",
    "from helper_forCisDecode import heatmap_optional\n",
    "import innvestigate.utils as iutils\n",
    "import os\n",
    "from keras.utils import plot_model,np_utils\n",
    "from keras.preprocessing.image import img_to_array, load_img\n",
    "\n",
    "from keras.layers import Dense, GlobalAveragePooling2D\n",
    "from sklearn.model_selection import train_test_split\n",
    "from keras.regularizers import l2\n",
    "from keras import backend as K\n",
    "from keras import optimizers\n",
    "\n",
    "from functools import reduce\n",
    "from keras.applications.vgg16 import VGG16, preprocess_input, decode_predictions\n",
    "from sklearn.metrics import classification_report, confusion_matrix\n",
    "\n",
    "import skimage as sk\n",
    "sk.__version__\n",
    "\n",
    "# limits tensorflow to a specific GPU\n",
    "os.environ[\"CUDA_VISIBLE_DEVICES\"]=\"0\""
   ]
  },
  {
   "cell_type": "code",
   "execution_count": 2,
   "metadata": {
    "collapsed": false,
    "scrolled": true
   },
   "outputs": [
    {
     "name": "stdout",
     "output_type": "stream",
     "text": [
      "_________________________________________________________________\n",
      "Layer (type)                 Output Shape              Param #   \n",
      "=================================================================\n",
      "conv1d_1 (Conv1D)            (None, 20, 32)            4832      \n",
      "_________________________________________________________________\n",
      "conv1d_2 (Conv1D)            (None, 20, 32)            3104      \n",
      "_________________________________________________________________\n",
      "max_pooling1d_1 (MaxPooling1 (None, 10, 32)            0         \n",
      "_________________________________________________________________\n",
      "dropout_1 (Dropout)          (None, 10, 32)            0         \n",
      "_________________________________________________________________\n",
      "conv1d_3 (Conv1D)            (None, 10, 32)            3104      \n",
      "_________________________________________________________________\n",
      "conv1d_4 (Conv1D)            (None, 10, 32)            3104      \n",
      "_________________________________________________________________\n",
      "max_pooling1d_2 (MaxPooling1 (None, 5, 32)             0         \n",
      "_________________________________________________________________\n",
      "conv1d_5 (Conv1D)            (None, 5, 64)             6208      \n",
      "_________________________________________________________________\n",
      "conv1d_6 (Conv1D)            (None, 5, 64)             12352     \n",
      "_________________________________________________________________\n",
      "max_pooling1d_3 (MaxPooling1 (None, 2, 64)             0         \n",
      "_________________________________________________________________\n",
      "conv1d_7 (Conv1D)            (None, 2, 64)             12352     \n",
      "_________________________________________________________________\n",
      "conv1d_8 (Conv1D)            (None, 2, 64)             12352     \n",
      "_________________________________________________________________\n",
      "max_pooling1d_4 (MaxPooling1 (None, 1, 64)             0         \n",
      "_________________________________________________________________\n",
      "dropout_2 (Dropout)          (None, 1, 64)             0         \n",
      "_________________________________________________________________\n",
      "flatten_1 (Flatten)          (None, 64)                0         \n",
      "_________________________________________________________________\n",
      "dense_1 (Dense)              (None, 32)                2080      \n",
      "_________________________________________________________________\n",
      "dense_2 (Dense)              (None, 16)                528       \n",
      "_________________________________________________________________\n",
      "dense_3 (Dense)              (None, 8)                 136       \n",
      "_________________________________________________________________\n",
      "dense_4 (Dense)              (None, 2)                 18        \n",
      "=================================================================\n",
      "Total params: 60,170\n",
      "Trainable params: 60,170\n",
      "Non-trainable params: 0\n",
      "_________________________________________________________________\n",
      "None\n"
     ]
    }
   ],
   "source": [
    "input_shape=(82055,20,50,1)### k=50に設定。(XXX, length, channel, 1): 1000-bpのとき\n",
    "num_classes=2\n",
    "\n",
    "from keras.utils import CustomObjectScope\n",
    "from keras.initializers import glorot_uniform\n",
    "with CustomObjectScope({'GlorotUniform': glorot_uniform()}):\n",
    "    model = load_model(\"./Bin25_MGBRup1.2_lr1e-4_ep10_ROC0.610.h5\")\n",
    "\n",
    "# model.compile(loss='categorical_crossentropy', optimizer='Nadam',metrics=['accuracy'])###lr設定必要\n",
    "print(model.summary())  #modelのsummaryを表示"
   ]
  },
  {
   "cell_type": "code",
   "execution_count": 6,
   "metadata": {
    "collapsed": false,
    "scrolled": true
   },
   "outputs": [
    {
     "name": "stdout",
     "output_type": "stream",
     "text": [
      "_________________________________________________________________\n",
      "Layer (type)                 Output Shape              Param #   \n",
      "=================================================================\n",
      "conv1d_1_input (InputLayer)  (None, 20, 50)            0         \n",
      "_________________________________________________________________\n",
      "conv1d_1 (Conv1D)            (None, 20, 32)            4832      \n",
      "_________________________________________________________________\n",
      "conv1d_2 (Conv1D)            (None, 20, 32)            3104      \n",
      "_________________________________________________________________\n",
      "max_pooling1d_1 (MaxPooling1 (None, 10, 32)            0         \n",
      "_________________________________________________________________\n",
      "dropout_1 (Dropout)          (None, 10, 32)            0         \n",
      "_________________________________________________________________\n",
      "conv1d_3 (Conv1D)            (None, 10, 32)            3104      \n",
      "_________________________________________________________________\n",
      "conv1d_4 (Conv1D)            (None, 10, 32)            3104      \n",
      "_________________________________________________________________\n",
      "max_pooling1d_2 (MaxPooling1 (None, 5, 32)             0         \n",
      "_________________________________________________________________\n",
      "conv1d_5 (Conv1D)            (None, 5, 64)             6208      \n",
      "_________________________________________________________________\n",
      "conv1d_6 (Conv1D)            (None, 5, 64)             12352     \n",
      "_________________________________________________________________\n",
      "max_pooling1d_3 (MaxPooling1 (None, 2, 64)             0         \n",
      "_________________________________________________________________\n",
      "conv1d_7 (Conv1D)            (None, 2, 64)             12352     \n",
      "_________________________________________________________________\n",
      "conv1d_8 (Conv1D)            (None, 2, 64)             12352     \n",
      "_________________________________________________________________\n",
      "max_pooling1d_4 (MaxPooling1 (None, 1, 64)             0         \n",
      "_________________________________________________________________\n",
      "dropout_2 (Dropout)          (None, 1, 64)             0         \n",
      "_________________________________________________________________\n",
      "flatten_1 (Flatten)          (None, 64)                0         \n",
      "_________________________________________________________________\n",
      "dense_1 (Dense)              (None, 32)                2080      \n",
      "_________________________________________________________________\n",
      "dense_2 (Dense)              (None, 16)                528       \n",
      "_________________________________________________________________\n",
      "dense_3 (Dense)              (None, 8)                 136       \n",
      "_________________________________________________________________\n",
      "dense_4 (Dense)              (None, 2)                 18        \n",
      "=================================================================\n",
      "Total params: 60,170\n",
      "Trainable params: 60,170\n",
      "Non-trainable params: 0\n",
      "_________________________________________________________________\n"
     ]
    }
   ],
   "source": [
    "# Only the partial model is needed for the visualizers(GradCam用). \n",
    "# Use innvestigate.utils.keras.graph.pre_softmax_tensors()\n",
    "# dense名が変更するまで、何回かRunさせる必要がある。\n",
    "partial_model = Model(\n",
    "    inputs=model.inputs,\n",
    "    outputs=iutils.keras.graph.pre_softmax_tensors(model.outputs),\n",
    "    name=model.name,\n",
    ")\n",
    "partial_model.summary()"
   ]
  },
  {
   "cell_type": "code",
   "execution_count": 7,
   "metadata": {
    "collapsed": true
   },
   "outputs": [],
   "source": [
    "# Range of input images\n",
    "# keras_applications VGG16 weights assume a range of (-127.5, 127.5). \n",
    "# Change this to a range suitable for your model.\n",
    "\n",
    "max_input = 1\n",
    "min_input = 0\n",
    "\n",
    "# max_input = -127.5\n",
    "# min_input = 127.5"
   ]
  },
  {
   "cell_type": "code",
   "execution_count": null,
   "metadata": {
    "collapsed": false
   },
   "outputs": [],
   "source": [
    "### train内の全遺伝子リストに対してpredictionを算出 ###\n",
    "\n",
    "import glob\n",
    "pred_list = open(\"Prediction-list.txt\", \"w\")### この名前でprediction listが保存される\n",
    "\n",
    "files = glob.glob(\"./gene_dataset/inputs/train*/*.npy\") ### /gene_dataset/inputs/trainXX/内の.npyファイル名を取得\n",
    "for file in files:\n",
    "    input_img = np.load(file)\n",
    "    input_img_1 = np.reshape(input_img,(1,20,50))\n",
    "    input_img_2 = np.reshape(input_img,(20,50))\n",
    "\n",
    "    pred_score = model.predict(input_img_1)\n",
    "    print(str(os.path.split(sfile)[1]) + \" prediction score:\" + pred_score + \"\\n\", file=pred_list)\n",
    "\n",
    "pred_list.close()\n"
   ]
  },
  {
   "cell_type": "code",
   "execution_count": 8,
   "metadata": {
    "collapsed": false
   },
   "outputs": [],
   "source": [
    "### 特定のnpyファイルのみ(現在は./selected/)に関してGBPをかけてheatmap or rawData output ###\n",
    "import glob\n",
    "\n",
    "imagefolder = \"./GBPheatmap-cisdecode/\" ### heatmap画像保存フォルダを指定\n",
    "rawfolder = \"./GBPrawdata-cisdecode/\"   ### raw dataの保存フォルダを指定\n",
    "#\n",
    "### GBPの関数呼び出し ###\n",
    "guidedbackprop_analyzer = GBP(\n",
    "    partial_model,\n",
    "    target_id=1,### 基本的にはpositive (target id =1) のものを対象にする\n",
    "    relu=True,\n",
    ")\n",
    "\n",
    "\n",
    "### 画像の色閾値と透明度の設定 ###\n",
    "rate = 0.5 ### 最大値のr倍が白色に: つまり0.5なら0.5がmin-1.0がmax\n",
    "alpha = 0.5 ### 透明度 (alpha値)の設定。0 (無色) - 1 (透かしなし)\n",
    "transp = \"False\" ### 背景を透明にする場合はTrue、しない場合はFalse\n",
    "\n",
    "\n",
    "sfiles = glob.glob(\"./selected/*.npy\") ### /selected/内の.npyファイル名を取得\n",
    "for sfile in sfiles:\n",
    "    ### heatmap保存 ###\n",
    "    fig = plt.figure(figsize=(20, 8), dpi=600)\n",
    "    input_img = np.load(sfile)\n",
    "    input_img_1 = np.reshape(input_img,(1,20,50))\n",
    "    analysis_guidedbackprop = guidedbackprop_analyzer.analyze(input_img_1)\n",
    "    heatmap_optional(analysis_guidedbackprop[0], r=rate, alp=alpha) ### 最大値のr倍が白色に: つまり0.5なら0.5がmin-1.0がmax alpha値も。\n",
    "#     plt.show()\n",
    "    fig.savefig(imagefolder + str(os.path.split(sfile)[1]) + \"_r=\" + str(rate) + \".png\", transparent=transp) ### ファイル名_r=XX.png という名前で上で指定した画像フォルダに保存\n",
    "\n",
    "    ### raw data保存 ###\n",
    "    datafile = open(rawfolder + str(os.path.split(sfile)[1]), \"w\")\n",
    "    print(str(analysis_guidedbackprop), file=datafile)"
   ]
  },
  {
   "cell_type": "code",
   "execution_count": 9,
   "metadata": {
    "collapsed": false
   },
   "outputs": [],
   "source": [
    "### GBPは遺伝子間での値が標準化されていないので、スケール感が異なる。したがって遺伝子間での足し算はNGである（2020/11/21に気づいた)\n",
    "\n",
    "### おまけ①。selectedにある遺伝子のGBP weightを「遺伝子間」で統合して「TFweights_Intg_selectedGenes.txt」に保存 ###\n",
    "\n",
    "# intg = open(\"TFweights_Intg_selectedGene.txt\",\"w\") ### この名前のファイルに保存\n",
    "# weight = np.zeros((1,20,50),dtype=float)\n",
    "# for sfile in sfiles:\n",
    "#     input_img = np.load(sfile)\n",
    "#     input_img_1 = np.reshape(input_img,(1,20,50))\n",
    "#     analysis_guidedbackprop = guidedbackprop_analyzer.analyze(input_img_1)\n",
    "#     weight = analysis_guidedbackprop + weight\n",
    "# print(str(weight), file=intg)\n",
    "# intg.close()"
   ]
  },
  {
   "cell_type": "code",
   "execution_count": 28,
   "metadata": {
    "collapsed": false
   },
   "outputs": [],
   "source": [
    "### おまけ②。selectedにある遺伝子のGBP weightを「TFチャンネル」に統合して「TFweights_Intg_TFchannels.txt」に保存 ###\n",
    "\n",
    "intg2 = open(\"TFweights_Intg_TFchannel.txt\",\"w\") ### この名前のファイルに保存\n",
    "rates = 0.5 ### heatmap optionに合わせて、最大値のrates倍以下を切る（min値の設定)\n",
    "\n",
    "for sfile in sfiles:\n",
    "    input_img = np.load(sfile)\n",
    "    input_img_1 = np.reshape(input_img,(1,20,50))\n",
    "    analysis_guidedbackprop = guidedbackprop_analyzer.analyze(input_img_1)\n",
    "    gbp = np.reshape(analysis_guidedbackprop,(20,50))\n",
    "\n",
    "    weight2 = np.zeros(50,dtype=float)\n",
    "    threshold = max(gbp.reshape(1000)) * rates\n",
    "    for i in range(len(gbp)):\n",
    "        gbp_relative = gbp[i] - threshold ### アレイ中最大値のrates倍をminとする（ただし、マイナス値も取るので、一行下の関数）\n",
    "        gbp_clip = np.clip(gbp_relative,0,max(gbp.reshape(1000))) ### 閾値の設定、min=0, max=アレイ中の最大値。\n",
    "        weight2 = gbp_clip + weight2\n",
    "    print(str(os.path.split(sfile)[1])+ \": \" + str(weight2) + \"\\n\", file = intg2)\n",
    "\n",
    "intg2.close()\n"
   ]
  },
  {
   "cell_type": "code",
   "execution_count": 11,
   "metadata": {
    "collapsed": false
   },
   "outputs": [
    {
     "data": {
      "text/plain": [
       "['./raw_datas/k50_BinSum2Binary25_wOTU-HSFA6B_colamp_a.h5-TomatoAllprom1k-count0.8_Float2Binary.txt',\n",
       " './raw_datas/k50_BinSum2Binary25_wOTU-AtIDD11_colamp_a.h5-TomatoAllprom1k-count0.8_Float2Binary.txt',\n",
       " './raw_datas/k50_BinSum2Binary25_wOTU-IDD7_col_a.h5-TomatoAllprom1k-count0.8_Float2Binary.txt',\n",
       " './raw_datas/k50_BinSum2Binary25_wOTU-At5g47390_col_b.h5-TomatoAllprom1k-count0.8_Float2Binary.txt',\n",
       " './raw_datas/k50_BinSum2Binary25_wOTU-At5g58900_colamp_a.h5-TomatoAllprom1k-count0.8_Float2Binary.txt',\n",
       " './raw_datas/k50_BinSum2Binary25_wOTU-CUC3_col_a.h5-TomatoAllprom1k-count0.8_Float2Binary.txt',\n",
       " './raw_datas/k50_BinSum2Binary25_wOTU-ANAC005_col_a.h5-TomatoAllprom1k-count0.8_Float2Binary.txt',\n",
       " './raw_datas/k50_BinSum2Binary25_wOTU-MYB70_col_a.h5-TomatoAllprom1k-count0.8_Float2Binary.txt',\n",
       " './raw_datas/k50_BinSum2Binary25_wOTU-ANAC050_col_v3a.h5-TomatoAllprom1k-count0.8_Float2Binary.txt',\n",
       " './raw_datas/k50_BinSum2Binary25_wOTU-MYB99_colamp_a.h5-TomatoAllprom1k-count0.8_Float2Binary.txt',\n",
       " './raw_datas/k50_BinSum2Binary25_wOTU-OBP1_col_a.h5-TomatoAllprom1k-count0.8_Float2Binary.txt',\n",
       " './raw_datas/k50_BinSum2Binary25_wOTU-AT1G47655_col_a.h5-TomatoAllprom1k-count0.8_Float2Binary.txt',\n",
       " './raw_datas/k50_BinSum2Binary25_wOTU-ANAC045_colamp_a.h5-TomatoAllprom1k-count0.8_Float2Binary.txt',\n",
       " './raw_datas/k50_BinSum2Binary25_wOTU-VND2_colamp_a.h5-TomatoAllprom1k-count0.8_Float2Binary.txt',\n",
       " './raw_datas/k50_BinSum2Binary25_wOTU-GT2_colamp_a.h5-TomatoAllprom1k-count0.8_Float2Binary.txt',\n",
       " './raw_datas/k50_BinSum2Binary25_wOTU-ANAC071_colamp_a.h5-TomatoAllprom1k-count0.8_Float2Binary.txt',\n",
       " './raw_datas/k50_BinSum2Binary25_wOTU-At3g12730_colamp_a.h5-TomatoAllprom1k-count0.8_Float2Binary.txt',\n",
       " './raw_datas/k50_BinSum2Binary25_wOTU-MYB107_colamp_a.h5-TomatoAllprom1k-count0.8_Float2Binary.txt',\n",
       " './raw_datas/k50_BinSum2Binary25_wOTU-ANAC094_col_a.h5-TomatoAllprom1k-count0.8_Float2Binary.txt',\n",
       " './raw_datas/k50_BinSum2Binary25_wOTU-ATHB6_col_a.h5-TomatoAllprom1k-count0.8_Float2Binary.txt',\n",
       " './raw_datas/k50_BinSum2Binary25_wOTU-AT1G76880_col_a.h5-TomatoAllprom1k-count0.8_Float2Binary.txt',\n",
       " './raw_datas/k50_BinSum2Binary25_wOTU-CDM1_colamp_a.h5-TomatoAllprom1k-count0.8_Float2Binary.txt',\n",
       " './raw_datas/k50_BinSum2Binary25_wOTU-ATHB21_col_a.h5-TomatoAllprom1k-count0.8_Float2Binary.txt',\n",
       " './raw_datas/k50_BinSum2Binary25_wOTU-At2g01060_col.h5-TomatoAllprom1k-count0.8_Float2Binary.txt',\n",
       " './raw_datas/k50_BinSum2Binary25_wOTU-VND4_colamp_a.h5-TomatoAllprom1k-count0.8_Float2Binary.txt',\n",
       " './raw_datas/k50_BinSum2Binary25_wOTU-WIP5_col_a.h5-TomatoAllprom1k-count0.8_Float2Binary.txt',\n",
       " './raw_datas/k50_BinSum2Binary25_wOTU-AT2G20110_col_a.h5-TomatoAllprom1k-count0.8_Float2Binary.txt',\n",
       " './raw_datas/k50_BinSum2Binary25_wOTU-AT5G66940_colamp_a.h5-TomatoAllprom1k-count0.8_Float2Binary.txt',\n",
       " './raw_datas/k50_BinSum2Binary25_wOTU-AT2G20400_colamp_a.h5-TomatoAllprom1k-count0.8_Float2Binary.txt',\n",
       " './raw_datas/k50_BinSum2Binary25_wOTU-WRKY65_col_a.h5-TomatoAllprom1k-count0.8_Float2Binary.txt',\n",
       " './raw_datas/k50_BinSum2Binary25_wOTU-RVE1_colamp_a.h5-TomatoAllprom1k-count0.8_Float2Binary.txt',\n",
       " './raw_datas/k50_BinSum2Binary25_wOTU-WRKY55_col_a.h5-TomatoAllprom1k-count0.8_Float2Binary.txt',\n",
       " './raw_datas/k50_BinSum2Binary25_wOTU-GATA4_col_a.h5-TomatoAllprom1k-count0.8_Float2Binary.txt',\n",
       " './raw_datas/k50_BinSum2Binary25_wOTU-ANAC055_col.h5-TomatoAllprom1k-count0.8_Float2Binary.txt',\n",
       " './raw_datas/k50_BinSum2Binary25_wOTU-CRF4_colamp_a.h5-TomatoAllprom1k-count0.8_Float2Binary.txt',\n",
       " './raw_datas/k50_BinSum2Binary25_wOTU-TCP20_col_a.h5-TomatoAllprom1k-count0.8_Float2Binary.txt',\n",
       " './raw_datas/k50_BinSum2Binary25_wOTU-HSF21_col_a.h5-TomatoAllprom1k-count0.8_Float2Binary.txt',\n",
       " './raw_datas/k50_BinSum2Binary25_wOTU-MYB101_col_a.h5-TomatoAllprom1k-count0.8_Float2Binary.txt',\n",
       " './raw_datas/k50_BinSum2Binary25_wOTU-EPR1_colamp_a.h5-TomatoAllprom1k-count0.8_Float2Binary.txt',\n",
       " './raw_datas/k50_BinSum2Binary25_wOTU-GBF6_col.h5-TomatoAllprom1k-count0.8_Float2Binary.txt',\n",
       " './raw_datas/k50_BinSum2Binary25_wOTU-HY5_colamp_v3a.h5-TomatoAllprom1k-count0.8_Float2Binary.txt',\n",
       " './raw_datas/k50_BinSum2Binary25_wOTU-bHLH28_col_a.h5-TomatoAllprom1k-count0.8_Float2Binary.txt',\n",
       " './raw_datas/k50_BinSum2Binary25_wOTU-bZIP52_col_v31.h5-TomatoAllprom1k-count0.8_Float2Binary.txt',\n",
       " './raw_datas/k50_BinSum2Binary25_wOTU-CAMTA5_col_a.h5-TomatoAllprom1k-count0.8_Float2Binary.txt',\n",
       " './raw_datas/k50_BinSum2Binary25_wOTU-MYB62_colamp_a.h5-TomatoAllprom1k-count0.8_Float2Binary.txt',\n",
       " './raw_datas/k50_BinSum2Binary25_wOTU-AT5G60130_col_a.h5-TomatoAllprom1k-count0.8_Float2Binary.txt',\n",
       " './raw_datas/k50_BinSum2Binary25_wOTU-MYB44_col.h5-TomatoAllprom1k-count0.8_Float2Binary.txt',\n",
       " './raw_datas/k50_BinSum2Binary25_wOTU-SND3_col_b.h5-TomatoAllprom1k-count0.8_Float2Binary.txt',\n",
       " './raw_datas/k50_BinSum2Binary25_wOTU-ATHB13_col_a.h5-TomatoAllprom1k-count0.8_Float2Binary.txt',\n",
       " './raw_datas/k50_BinSum2Binary25_wOTU-SVP_col_v3b.h5-TomatoAllprom1k-count0.8_Float2Binary.txt']"
      ]
     },
     "execution_count": 11,
     "metadata": {},
     "output_type": "execute_result"
    }
   ],
   "source": [
    "### おまけ③ TFリストの順番\n",
    "glob.glob(\"./raw_datas/*.txt\") ### 「今raw_datas」に入っているものなので注意。"
   ]
  },
  {
   "cell_type": "code",
   "execution_count": null,
   "metadata": {
    "collapsed": true
   },
   "outputs": [],
   "source": []
  }
 ],
 "metadata": {
  "anaconda-cloud": {},
  "kernelspec": {
   "display_name": "Python [default]",
   "language": "python",
   "name": "python3"
  },
  "language_info": {
   "codemirror_mode": {
    "name": "ipython",
    "version": 3
   },
   "file_extension": ".py",
   "mimetype": "text/x-python",
   "name": "python",
   "nbconvert_exporter": "python",
   "pygments_lexer": "ipython3",
   "version": "3.5.2"
  }
 },
 "nbformat": 4,
 "nbformat_minor": 2
}
